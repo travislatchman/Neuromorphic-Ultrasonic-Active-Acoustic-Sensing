{
 "cells": [
  {
   "cell_type": "code",
   "execution_count": null,
   "metadata": {},
   "outputs": [],
   "source": [
    "# Normalize data\n",
    "scaler = MinMaxScaler(feature_range=(0, 1))\n",
    "data_normalized = scaler.fit_transform(data)\n",
    "\n",
    "# Reshape data to have the format (samples, time_steps, features)\n",
    "data_reshaped = data_normalized.reshape(\n",
    "    data_normalized.shape[0], data_normalized.shape[1], 1)\n",
    "\n",
    "# Generate labels for the data\n",
    "labels = [i // 2 for i in range(12)] * (data.shape[0] // 12)\n"
   ]
  },
  {
   "cell_type": "code",
   "execution_count": null,
   "metadata": {},
   "outputs": [],
   "source": [
    "# Function to process data\n",
    "def process_data(data):\n",
    "    # Apply STFT with 30ms windows using Hamming window\n",
    "    f, t, Zxx = stft(data, fs=100000, window='hamming', nperseg=3000)\n",
    "\n",
    "    # Perform FFT\n",
    "    fft_data = np.fft.fft(Zxx)\n",
    "\n",
    "    # Square FFT values\n",
    "    energy_magnitude = np.abs(fft_data) ** 2\n",
    "\n",
    "    return energy_magnitude\n"
   ]
  },
  {
   "cell_type": "code",
   "execution_count": null,
   "metadata": {},
   "outputs": [],
   "source": [
    "import tensorflow as tf\n",
    "from tensorflow.keras.models import Sequential\n",
    "from tensorflow.keras.layers import LSTM, Dense\n",
    "from tensorflow.keras.callbacks import ModelCheckpoint\n",
    "\n",
    "# Build the LSTM model\n",
    "model = Sequential()\n",
    "model.add(LSTM(100, input_shape=(X_train.shape[1], X_train.shape[2])))\n",
    "model.add(Dense(3, activation='softmax'))\n",
    "\n",
    "# Compile the model\n",
    "model.compile(loss='sparse_categorical_crossentropy',\n",
    "              optimizer='adam', metrics=['accuracy'])\n",
    "\n",
    "# Create a checkpoint to save the best model\n",
    "checkpoint = ModelCheckpoint(\n",
    "    \"best_model.h5\", monitor='val_accuracy', save_best_only=True, mode='max', verbose=1)\n",
    "\n",
    "# Train the model\n",
    "model.fit(X_train, y_train, epochs=50, batch_size=32, validation_data=(\n",
    "    X_test, y_test), callbacks=[checkpoint], shuffle=True)\n"
   ]
  },
  {
   "cell_type": "code",
   "execution_count": null,
   "metadata": {},
   "outputs": [],
   "source": [
    "\n",
    "# Load the best model\n",
    "best_model = tf.keras.models.load_model(\"best_model.h5\")\n",
    "\n",
    "# Evaluate the model on the test set\n",
    "test_loss, test_accuracy = best_model.evaluate(X_test, y_test)\n",
    "print(f\"Test accuracy: {test_accuracy}\")\n",
    "\n",
    "# Make predictions\n",
    "predictions = best_model.predict(X_test)\n",
    "predicted_labels = np.argmax(predictions, axis=1)\n",
    "```\n"
   ]
  },
  {
   "cell_type": "code",
   "execution_count": null,
   "metadata": {},
   "outputs": [],
   "source": [
    "# Convert the Keras model to a TensorFlow Lite model\n",
    "converter = tf.lite.TFLiteConverter.from_keras_model(best_model)\n"
   ]
  }
 ],
 "metadata": {
  "language_info": {
   "name": "python"
  },
  "orig_nbformat": 4
 },
 "nbformat": 4,
 "nbformat_minor": 2
}
