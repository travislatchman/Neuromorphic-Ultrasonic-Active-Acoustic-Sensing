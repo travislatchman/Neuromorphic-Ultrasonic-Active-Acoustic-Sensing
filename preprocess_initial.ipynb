{
 "cells": [
  {
   "cell_type": "code",
   "execution_count": null,
   "metadata": {},
   "outputs": [],
   "source": [
    "import numpy as np\n",
    "from scipy.signal import stft\n",
    "\n",
    "\n",
    "\n"
   ]
  },
  {
   "cell_type": "code",
   "execution_count": null,
   "metadata": {},
   "outputs": [],
   "source": [
    "def preprocess_signal(raw_signal, window_size, overlap, fs):\n",
    "    \"\"\"\n",
    "    Preprocess raw signal using Short-Time Fourier Transform (STFT).\n",
    "\n",
    "    :param raw_signal: raw time-domain signal\n",
    "    :param window_size: size of the window for STFT\n",
    "    :param overlap: overlap between consecutive windows in STFT\n",
    "    :param fs: sample rate of the raw signal\n",
    "    :return: spectrogram of the raw signal\n",
    "    \"\"\"\n",
    "\n",
    "    _, _, zxx = stft(raw_signal, fs=fs, window='hann',\n",
    "                     nperseg=window_size, noverlap=overlap)\n",
    "    spectrogram = np.abs(zxx)\n",
    "    return spectrogram\n",
    "\n",
    "\n"
   ]
  },
  {
   "cell_type": "code",
   "execution_count": null,
   "metadata": {},
   "outputs": [],
   "source": [
    "\n",
    "# Assuming `raw_signals` is a list of raw time-domain signals and `fs` is the sample rate\n",
    "window_size = 256\n",
    "overlap = window_size // 2\n",
    "processed_signals = [preprocess_signal(\n",
    "    raw_signal, window_size, overlap, fs) for raw_signal in raw_signals]\n"
   ]
  },
  {
   "cell_type": "code",
   "execution_count": null,
   "metadata": {},
   "outputs": [],
   "source": [
    "\n",
    "# Assuming `raw_signals` is a list of raw time-domain signals and `fs` is the sample rate\n",
    "window_size = 256\n",
    "overlap = window_size // 2\n",
    "processed_signals = [preprocess_signal(\n",
    "    raw_signal, window_size, overlap, fs) for raw_signal in raw_signals]\n"
   ]
  },
  {
   "cell_type": "code",
   "execution_count": null,
   "metadata": {},
   "outputs": [],
   "source": [
    "def create_input_output_sequences(signals, labels, sequence_length):\n",
    "    X, y = [], []\n",
    "    for i, signal in enumerate(signals):\n",
    "        for j in range(signal.shape[1] - sequence_length):\n",
    "            X.append(signal[:, j:j + sequence_length])\n",
    "            y.append(labels[i])\n",
    "    return np.array(X), np.array(y)\n",
    "\n",
    "\n",
    "sequence_length = 100  # Adjust this value based on your dataset and problem\n",
    "X, y = create_input_output_sequences(\n",
    "    normalized_signals, labels, sequence_length)\n"
   ]
  },
  {
   "cell_type": "code",
   "execution_count": null,
   "metadata": {},
   "outputs": [],
   "source": [
    "from sklearn.model_selection import train_test_split\n",
    "\n",
    "X_train, X_test, y_train, y_test = train_test_split(\n",
    "    X, y, test_size=0.2, random_state=42)\n"
   ]
  },
  {
   "cell_type": "code",
   "execution_count": null,
   "metadata": {},
   "outputs": [],
   "source": [
    "num_features = X_train.shape[-1]\n",
    "X_train = X_train.reshape(-1, sequence_length, num_features)\n",
    "X_test = X_test.reshape(-1, sequence_length, num_features)\n"
   ]
  }
 ],
 "metadata": {
  "language_info": {
   "name": "python"
  },
  "orig_nbformat": 4
 },
 "nbformat": 4,
 "nbformat_minor": 2
}
