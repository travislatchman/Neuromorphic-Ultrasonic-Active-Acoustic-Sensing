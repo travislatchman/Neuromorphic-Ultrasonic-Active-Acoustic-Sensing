{
 "cells": [
  {
   "cell_type": "code",
   "execution_count": null,
   "metadata": {
    "vscode": {
     "languageId": "plaintext"
    }
   },
   "outputs": [],
   "source": [
    "import os\n",
    "import numpy as np\n",
    "import matplotlib.pyplot as plt\n",
    "from scipy.fftpack import fft, ifft\n",
    "import pandas as pd\n",
    "import tensorflow as tf\n",
    "from tensorflow.keras.models import Sequential\n",
    "from tensorflow.keras.layers import LSTM, Dense, Dropout\n",
    "\n",
    "from scipy.signal import get_window\n",
    "from scipy.fft import fft\n",
    "from scipy.signal import spectrogram\n",
    "\n",
    "from scipy.signal import get_window\n",
    "from scipy.fft import fft\n",
    "from scipy.signal import spectrogram\n",
    "\n"
   ]
  },
  {
   "cell_type": "code",
   "execution_count": null,
   "metadata": {
    "vscode": {
     "languageId": "plaintext"
    }
   },
   "outputs": [],
   "source": [
    "# Stack all the classes together\n",
    "data_all = np.concatenate((signals_matrix_big, signals_matrix_medium, signals_matrix_small), axis=0)\n",
    "labels_big = np.zeros((signals_matrix_big.shape[0],), dtype=int)  # Class 0\n",
    "labels_medium = np.ones((signals_matrix_medium.shape[0],), dtype=int)  # Class 1\n",
    "labels_small = np.ones((signals_matrix_small.shape[0],), dtype=int) * 2  # Class 2\n"
   ]
  },
  {
   "cell_type": "code",
   "execution_count": null,
   "metadata": {
    "vscode": {
     "languageId": "plaintext"
    }
   },
   "outputs": [],
   "source": [
    "# Stack all the labels together\n",
    "labels_all = np.concatenate((labels_big, labels_medium, labels_small), axis=0)\n"
   ]
  },
  {
   "cell_type": "code",
   "execution_count": null,
   "metadata": {
    "vscode": {
     "languageId": "plaintext"
    }
   },
   "outputs": [],
   "source": [
    "# from keras.utils import to_categorical\n",
    "# labels_all_one_hot = to_categorical(labels_all, num_classes=3)  #used for softmax activation\n",
    "from sklearn.model_selection import train_test_split\n"
   ]
  },
  {
   "cell_type": "code",
   "execution_count": null,
   "metadata": {
    "vscode": {
     "languageId": "plaintext"
    }
   },
   "outputs": [],
   "source": [
    "# Assuming `data_all` is your stacked data and `labels_all_one_hot` are your one-hot encoded labels...\n",
    "# Split the data into a training set and a temporary set using an 80-20 split\n",
    "X_train, X_temp, Y_train, Y_temp = train_test_split(data_all, labels_all, test_size=0.35, random_state=42)\n"
   ]
  },
  {
   "cell_type": "code",
   "execution_count": null,
   "metadata": {
    "vscode": {
     "languageId": "plaintext"
    }
   },
   "outputs": [],
   "source": [
    "# Split the temporary set into a validation set and a test set using a 50-50 split\n",
    "X_val, X_test, Y_val, Y_test = train_test_split(X_temp, Y_temp, test_size=0.5, random_state=42)\n"
   ]
  },
  {
   "cell_type": "code",
   "execution_count": null,
   "metadata": {
    "vscode": {
     "languageId": "plaintext"
    }
   },
   "outputs": [],
   "source": [
    "# import tensorflow as tf\n",
    "# print(\"Num GPUs Available: \", len(tf.config.experimental.list_physical_devices('GPU')))\n",
    "# tf.test.is_gpu_available()\n",
    "from tensorflow.keras.utils import to_categorical\n",
    "Y_train_one_hot = to_categorical(Y_train)\n",
    "Y_val_one_hot = to_categorical(Y_val)\n"
   ]
  },
  {
   "cell_type": "code",
   "execution_count": null,
   "metadata": {
    "vscode": {
     "languageId": "plaintext"
    }
   },
   "outputs": [],
   "source": [
    "from keras.models import Sequential\n",
    "from tensorflow.keras.layers import LSTM, Dense, Dropout, Conv1D, Flatten, TimeDistributed\n",
    "from tensorflow.keras.optimizers import Adam\n"
   ]
  },
  {
   "cell_type": "code",
   "execution_count": null,
   "metadata": {
    "vscode": {
     "languageId": "plaintext"
    }
   },
   "outputs": [],
   "source": [
    "num_classes = 3  # replace with your actual number of classes\n",
    "input_shape = (length, 1)  # input shape matching your data's shape\n"
   ]
  },
  {
   "cell_type": "code",
   "execution_count": null,
   "metadata": {
    "vscode": {
     "languageId": "plaintext"
    }
   },
   "outputs": [],
   "source": [
    "# Define the model architecture\n",
    "model = Sequential()\n",
    "model.add(Conv1D(filters=25, kernel_size=3, activation='relu', input_shape=input_shape))  # increased filters\n",
    "model.add(Dropout(0.2))"
   ]
  },
  {
   "cell_type": "code",
   "execution_count": null,
   "metadata": {
    "vscode": {
     "languageId": "plaintext"
    }
   },
   "outputs": [],
   "source": [
    "model.add(TimeDistributed(Flatten()))\n",
    "model.add(LSTM(25, activation='tanh',  return_sequences=True))  # increased LSTM units\n",
    "model.add(Dropout(0.2))\n",
    "model.add(LSTM(25, activation='tanh',  return_sequences=True))  # increased LSTM units\n",
    "model.add(Dropout(0.2))\n",
    "model.add(LSTM(25, activation='tanh'))  # increased LSTM units\n",
    "model.add(Dropout(0.2))\n",
    "model.add(Dense(num_classes, activation='softmax'))\n"
   ]
  },
  {
   "cell_type": "code",
   "execution_count": null,
   "metadata": {
    "vscode": {
     "languageId": "plaintext"
    }
   },
   "outputs": [],
   "source": [
    "# Define your optimizer and set the learning rate\n",
    "adam = Adam(learning_rate=0.1)\n"
   ]
  },
  {
   "cell_type": "code",
   "execution_count": null,
   "metadata": {
    "vscode": {
     "languageId": "plaintext"
    }
   },
   "outputs": [],
   "source": [
    "# Compile the model\n",
    "model.compile(optimizer=adam, loss='categorical_crossentropy', metrics=['accuracy'])\n"
   ]
  },
  {
   "cell_type": "code",
   "execution_count": null,
   "metadata": {
    "vscode": {
     "languageId": "plaintext"
    }
   },
   "outputs": [],
   "source": [
    "# Train the model\n",
    "# history = model.fit(X_train, Y_train, validation_data=(X_val, Y_val), epochs=100, verbose=1)\n",
    "history = model.fit(X_train, Y_train_one_hot, validation_data=(X_val, Y_val_one_hot), epochs=50, verbose=1)"
   ]
  }
 ],
 "metadata": {
  "language_info": {
   "name": "python"
  },
  "orig_nbformat": 4
 },
 "nbformat": 4,
 "nbformat_minor": 2
}
